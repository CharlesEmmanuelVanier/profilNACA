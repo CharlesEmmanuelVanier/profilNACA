{
 "cells": [
  {
   "cell_type": "markdown",
   "metadata": {
    "id": "aY461xJII7ac"
   },
   "source": [
    "# Accélération et distance totale parcourue par un aéronef\n",
    "\n",
    "Imaginons que l'on a des données de mesures provenant de capteurs d'aéronefs, la vitesse à différents instants dans le temps, et que l'on doit trouver:\n",
    "\n",
    "1. L'accélération de l'avion à tout moment t\n",
    "2. L'instant où la vitesse est maximale\n",
    "3. La distance totale parcourue\n",
    "\n",
    "Les données d'entrées sont fournies ci-dessous:"
   ]
  },
  {
   "cell_type": "code",
   "execution_count": 35,
   "metadata": {
    "id": "Bj9BFPyNIIHh"
   },
   "outputs": [],
   "source": [
    "import numpy as np\n",
    "\n",
    "# Données de temps (en secondes)\n",
    "t = np.array([0, 12, 29, 31, 42, 54])\n",
    "\n",
    "# Données de vitesse (en m/s)\n",
    "v = np.array([105, 154, 223, 188, 251, 229])"
   ]
  },
  {
   "cell_type": "markdown",
   "metadata": {
    "id": "wBnqJT8TJccS"
   },
   "source": [
    "## 1. Accélération\n",
    "\n",
    "Calculez l'accélération de l'aéronef à chaque instant en utilisant la formule de base de la cinématique :\n",
    "\n",
    "$ \\alpha = \\frac{\\Delta_v}{\\Delta_t}$\n",
    "\n",
    "Utilisez les tableaux NumPy pour effectuer ces calculs de manière vectorisée et stockez les résultats dans un tableau appelé a."
   ]
  },
  {
   "cell_type": "code",
   "execution_count": 36,
   "metadata": {
    "colab": {
     "base_uri": "https://localhost:8080/"
    },
    "id": "51J9mpHZJeJD",
    "outputId": "db18505a-a8bb-4c21-cdc4-133e56e79c90"
   },
   "outputs": [
    {
     "name": "stdout",
     "output_type": "stream",
     "text": [
      "(5,)\n",
      "[12 17  2 11 12]\n",
      "(5,)\n",
      "[ 49  69 -35  63 -22]\n",
      "\n",
      " On obtient l'accélération a:\n",
      " [  4.08333333   4.05882353 -17.5          5.72727273  -1.83333333]\n"
     ]
    }
   ],
   "source": [
    "# 1. Calcul de l'accélération\n",
    "delta_t = np.diff(t)  # Calcul des variations de temps\n",
    "delta_v = np.diff(v)  # Calcul des variations de vitesse\n",
    "\n",
    "print(delta_t.shape)\n",
    "print(delta_t)\n",
    "\n",
    "print(delta_v.shape)\n",
    "print(delta_v)\n",
    "\n",
    "# Utilisation de la formule de la cinématique pour calculer l'accélération\n",
    "a = delta_v / delta_t\n",
    "\n",
    "print(\"\\n On obtient l'accélération a:\\n\", a)"
   ]
  },
  {
   "cell_type": "markdown",
   "metadata": {
    "id": "mthkPjoBIaxE"
   },
   "source": [
    "## 2. Vitesse max\n",
    "\n",
    "Pour trouver la vitesse max, on utilise la fonction de numpy qui s'applique à des ndarray `argmax` qui renvoie l'indice de l'élément maximum du tableau:"
   ]
  },
  {
   "cell_type": "code",
   "execution_count": 37,
   "metadata": {
    "colab": {
     "base_uri": "https://localhost:8080/"
    },
    "id": "zA-H_Mz0IbrU",
    "outputId": "4ddeafbd-fa3d-4a4e-b36b-509c9d70ab4a"
   },
   "outputs": [
    {
     "name": "stdout",
     "output_type": "stream",
     "text": [
      "\n",
      " La vitesse est maximale pour l'indice: 4 qui se produit pour t =  42 s\n",
      "\n",
      " La vitesse maximale est:  251 m/s\n"
     ]
    }
   ],
   "source": [
    "# 2. Moment où la vitesse maximale est atteinte\n",
    "indice_max_vitesse = np.argmax(v)\n",
    "temps_max_vitesse = t[indice_max_vitesse]\n",
    "vitesse_max = v[indice_max_vitesse]\n",
    "\n",
    "print(\"\\n La vitesse est maximale pour l'indice:\", indice_max_vitesse, \"qui se produit pour t = \", temps_max_vitesse, \"s\")\n",
    "print(\"\\n La vitesse maximale est: \", vitesse_max, \"m/s\")"
   ]
  },
  {
   "cell_type": "markdown",
   "metadata": {
    "id": "W_pnDuBoLGv7"
   },
   "source": [
    "## 3. Distance totale parcourue\n",
    "\n",
    "La distance totale parcourue est obtenue en intégrant la vitesse par rapport au temps. On utilise pour cela la fonction `trapz` qui effectue une integration numérique de l'un par rapport à l'autre."
   ]
  },
  {
   "cell_type": "code",
   "execution_count": 38,
   "metadata": {
    "colab": {
     "base_uri": "https://localhost:8080/"
    },
    "id": "cjXLzJdTLJ1A",
    "outputId": "ea2b3d04-e00e-49b1-824f-5ca9931d7b8d"
   },
   "outputs": [
    {
     "name": "stdout",
     "output_type": "stream",
     "text": [
      "La distance totale parcourue est: 10464.0 m\n"
     ]
    }
   ],
   "source": [
    "# 3. Calcul de la distance totale parcourue\n",
    "# Utilisation de la méthode des trapèzes pour l'intégration numérique\n",
    "distance_totale = np.trapz(v, t)\n",
    "\n",
    "print(\"La distance totale parcourue est:\", distance_totale, \"m\")"
   ]
  },
  {
   "cell_type": "code",
   "execution_count": 39,
   "metadata": {
    "colab": {
     "base_uri": "https://localhost:8080/"
    },
    "id": "KhIq6audLZ95",
    "outputId": "64371604-5352-4ad0-e235-788c330656fe"
   },
   "outputs": [
    {
     "name": "stdout",
     "output_type": "stream",
     "text": [
      "1. Accélération à chaque instant :  [  4.08333333   4.05882353 -17.5          5.72727273  -1.83333333]\n",
      "2. Moment où la vitesse maximale est atteinte :  42 s, Vitesse maximale :  251 m/s\n",
      "3. Distance totale parcourue :  10464.0 m\n"
     ]
    }
   ],
   "source": [
    "# Affichage des résultats\n",
    "print(\"1. Accélération à chaque instant : \", a)\n",
    "print(\"2. Moment où la vitesse maximale est atteinte : \", temps_max_vitesse, \"s, Vitesse maximale : \", vitesse_max, \"m/s\")\n",
    "print(\"3. Distance totale parcourue : \", distance_totale, \"m\")"
   ]
  }
 ],
 "metadata": {
  "colab": {
   "provenance": []
  },
  "kernelspec": {
   "display_name": "Python 3 (ipykernel)",
   "language": "python",
   "name": "python3"
  },
  "language_info": {
   "codemirror_mode": {
    "name": "ipython",
    "version": 3
   },
   "file_extension": ".py",
   "mimetype": "text/x-python",
   "name": "python",
   "nbconvert_exporter": "python",
   "pygments_lexer": "ipython3",
   "version": "3.12.8"
  }
 },
 "nbformat": 4,
 "nbformat_minor": 4
}
